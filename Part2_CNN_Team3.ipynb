{
 "cells": [
  {
   "cell_type": "code",
   "execution_count": 1,
   "id": "b948ca11",
   "metadata": {},
   "outputs": [],
   "source": [
    "import pandas as pd\n",
    "import numpy as np\n",
    "import cv2\n",
    "from sklearn.preprocessing import LabelEncoder\n",
    "import sys\n",
    "import tensorflow as tf\n",
    "import matplotlib.pyplot as plt\n",
    "from PIL import Image\n",
    "from PIL import ImageEnhance\n",
    "import os.path\n",
    "import glob\n",
    "from resizeimage import resizeimage\n",
    "from sklearn import metrics"
   ]
  },
  {
   "cell_type": "markdown",
   "id": "1b76ca90",
   "metadata": {},
   "source": [
    "# resize images, create more images"
   ]
  },
  {
   "cell_type": "code",
   "execution_count": 2,
   "id": "283ec05b",
   "metadata": {},
   "outputs": [],
   "source": [
    "def convert(jpgfile,outdir, width=64,height=64):\n",
    "    img=Image.open(jpgfile)\n",
    "    try:\n",
    "        new_img = img.convert(\"RGB\")\n",
    "        new_img = resizeimage.resize_cover(new_img, [width, height])\n",
    "        new_img = ImageEnhance.Color(new_img) \n",
    "        new_img = new_img.enhance(3)\n",
    "        if not os.path.exists(outdir):\n",
    "            os.mkdir(outdir)\n",
    "        new_img.save(os.path.join(outdir, os.path.basename(jpgfile)).replace('.jpg','(1).jpg'))\n",
    "    except Exception as e:\n",
    "        print(e)"
   ]
  },
  {
   "cell_type": "code",
   "execution_count": 3,
   "id": "fadb5cb0",
   "metadata": {},
   "outputs": [],
   "source": [
    "def convert_mixed_class(jpgfile,outdir, width=64,height=64):\n",
    "    img=Image.open(jpgfile)\n",
    "    try:\n",
    "        new_img = img.convert(\"RGB\")\n",
    "        new_img = resizeimage.resize_cover(new_img, [width, height])\n",
    "        new_img = ImageEnhance.Color(new_img) \n",
    "        new_img = new_img.enhance(3)\n",
    "        new_img2 = new_img.transpose(Image.FLIP_LEFT_RIGHT)\n",
    "        new_img3 = new_img.transpose(Image.FLIP_TOP_BOTTOM)\n",
    "        new_img4 = new_img.transpose(Image.ROTATE_90)\n",
    "\n",
    "        if not os.path.exists(outdir):\n",
    "            os.mkdir(outdir)\n",
    "        new_img.save(os.path.join(outdir, os.path.basename(jpgfile)).replace('.jpg','(1).jpg'))\n",
    "        new_img2.save(os.path.join(outdir, os.path.basename(jpgfile)).replace('.jpg','(2).jpg'))\n",
    "        new_img3.save(os.path.join(outdir, os.path.basename(jpgfile)).replace('.jpg','(3).jpg'))\n",
    "        new_img4.save(os.path.join(outdir, os.path.basename(jpgfile)).replace('.jpg','(4).jpg'))\n",
    "\n",
    "    except Exception as e:\n",
    "        print(e)"
   ]
  },
  {
   "cell_type": "code",
   "execution_count": 6,
   "id": "63f05afb",
   "metadata": {},
   "outputs": [],
   "source": [
    "for jpgfile in glob.glob(\"images\\\\train\\\\*.jpg\"):\n",
    "    convert(jpgfile,\"images\\\\train_resize\\\\\")\n",
    "for jpgfile in glob.glob(\"images\\\\test\\\\*.jpg\"):\n",
    "    convert(jpgfile,\"images\\\\test_resize\\\\\")"
   ]
  },
  {
   "cell_type": "code",
   "execution_count": 7,
   "id": "9d24f317",
   "metadata": {},
   "outputs": [],
   "source": [
    "for jpgfile in glob.glob(\"images\\\\train\\\\mixed_*.jpg\"):\n",
    "    convert_mixed_class(jpgfile,\"images\\\\train_resize\\\\\")"
   ]
  },
  {
   "cell_type": "markdown",
   "id": "b3686eea",
   "metadata": {},
   "source": [
    "# processing images into data and label"
   ]
  },
  {
   "cell_type": "code",
   "execution_count": 8,
   "id": "c9e14d26",
   "metadata": {},
   "outputs": [],
   "source": [
    "def processing_image(RGB_file):\n",
    "    im=Image.open(RGB_file)\n",
    "    im_data=[[im.getpixel((y,x)) for y in range(im.size[1])] for x in range(im.size[0])]\n",
    "    return im_data"
   ]
  },
  {
   "cell_type": "code",
   "execution_count": 9,
   "id": "c5de277d",
   "metadata": {},
   "outputs": [],
   "source": [
    "X_train=np.array([processing_image(image) for image in glob.glob(\"images\\\\train_resize\\\\*.jpg\")])/255\n",
    "X_test=np.array([processing_image(image) for image in glob.glob(\"images\\\\test_resize\\\\*.jpg\")])/255\n",
    "y_train=np.array([image.split('_')[0] for image in os.listdir(\"images\\\\train_resize\\\\\")])\n",
    "y_test=np.array([image.split('_')[0] for image in os.listdir(\"images\\\\test_resize\\\\\")])"
   ]
  },
  {
   "cell_type": "code",
   "execution_count": 10,
   "id": "3a275e97",
   "metadata": {},
   "outputs": [],
   "source": [
    "# label the classes with int\n",
    "le=LabelEncoder()\n",
    "le=le.fit(y_train)\n",
    "y_train=le.transform(y_train)\n",
    "y_test=le.transform(y_test)\n",
    "# one-hot encoding\n",
    "y_train = tf.keras.utils.to_categorical(y_train)\n",
    "y_test = tf.keras.utils.to_categorical(y_test)"
   ]
  },
  {
   "cell_type": "code",
   "execution_count": 11,
   "id": "d9177997",
   "metadata": {},
   "outputs": [
    {
     "name": "stdout",
     "output_type": "stream",
     "text": [
      "(296, 64, 64, 3)\n",
      "(296, 4)\n",
      "(60, 64, 64, 3)\n",
      "(60, 4)\n",
      "[[[1. 1. 1.]\n",
      "  [1. 1. 1.]\n",
      "  [1. 1. 1.]\n",
      "  ...\n",
      "  [1. 1. 1.]\n",
      "  [1. 1. 1.]\n",
      "  [1. 1. 1.]]\n",
      "\n",
      " [[1. 1. 1.]\n",
      "  [1. 1. 1.]\n",
      "  [1. 1. 1.]\n",
      "  ...\n",
      "  [1. 1. 1.]\n",
      "  [1. 1. 1.]\n",
      "  [1. 1. 1.]]\n",
      "\n",
      " [[1. 1. 1.]\n",
      "  [1. 1. 1.]\n",
      "  [1. 1. 1.]\n",
      "  ...\n",
      "  [1. 1. 1.]\n",
      "  [1. 1. 1.]\n",
      "  [1. 1. 1.]]\n",
      "\n",
      " ...\n",
      "\n",
      " [[1. 1. 1.]\n",
      "  [1. 1. 1.]\n",
      "  [1. 1. 1.]\n",
      "  ...\n",
      "  [1. 1. 1.]\n",
      "  [1. 1. 1.]\n",
      "  [1. 1. 1.]]\n",
      "\n",
      " [[1. 1. 1.]\n",
      "  [1. 1. 1.]\n",
      "  [1. 1. 1.]\n",
      "  ...\n",
      "  [1. 1. 1.]\n",
      "  [1. 1. 1.]\n",
      "  [1. 1. 1.]]\n",
      "\n",
      " [[1. 1. 1.]\n",
      "  [1. 1. 1.]\n",
      "  [1. 1. 1.]\n",
      "  ...\n",
      "  [1. 1. 1.]\n",
      "  [1. 1. 1.]\n",
      "  [1. 1. 1.]]]\n"
     ]
    },
    {
     "data": {
      "image/png": "[encoded data removed]",
      "text/plain": [
       "<Figure size 432x288 with 1 Axes>"
      ]
     },
     "metadata": {
      "needs_background": "light"
     },
     "output_type": "display_data"
    }
   ],
   "source": [
    "#show the scale of the training set, test set and a sample image\n",
    "print(X_train.shape)\n",
    "print(y_train.shape)\n",
    "print(X_test.shape)\n",
    "print(y_test.shape)\n",
    "plt.imshow(X_train[8])\n",
    "print(X_train[8])"
   ]
  },
  {
   "cell_type": "markdown",
   "id": "9c9888b2",
   "metadata": {},
   "source": [
    "# build cnn model"
   ]
  },
  {
   "cell_type": "code",
   "execution_count": 12,
   "id": "bc1319c7",
   "metadata": {},
   "outputs": [
    {
     "name": "stdout",
     "output_type": "stream",
     "text": [
      "Model: \"sequential\"\n",
      "_________________________________________________________________\n",
      "Layer (type)                 Output Shape              Param #   \n",
      "=================================================================\n",
      "conv2d (Conv2D)              (None, 64, 64, 32)        896       \n",
      "_________________________________________________________________\n",
      "max_pooling2d (MaxPooling2D) (None, 32, 32, 32)        0         \n",
      "_________________________________________________________________\n",
      "conv2d_1 (Conv2D)            (None, 32, 32, 64)        18496     \n",
      "_________________________________________________________________\n",
      "max_pooling2d_1 (MaxPooling2 (None, 16, 16, 64)        0         \n",
      "_________________________________________________________________\n",
      "conv2d_2 (Conv2D)            (None, 16, 16, 128)       73856     \n",
      "_________________________________________________________________\n",
      "max_pooling2d_2 (MaxPooling2 (None, 8, 8, 128)         0         \n",
      "_________________________________________________________________\n",
      "conv2d_3 (Conv2D)            (None, 8, 8, 256)         295168    \n",
      "_________________________________________________________________\n",
      "max_pooling2d_3 (MaxPooling2 (None, 4, 4, 256)         0         \n",
      "_________________________________________________________________\n",
      "dropout (Dropout)            (None, 4, 4, 256)         0         \n",
      "_________________________________________________________________\n",
      "flatten (Flatten)            (None, 4096)              0         \n",
      "_________________________________________________________________\n",
      "dense (Dense)                (None, 256)               1048832   \n",
      "_________________________________________________________________\n",
      "dropout_1 (Dropout)          (None, 256)               0         \n",
      "_________________________________________________________________\n",
      "dense_1 (Dense)              (None, 256)               65792     \n",
      "_________________________________________________________________\n",
      "dropout_2 (Dropout)          (None, 256)               0         \n",
      "_________________________________________________________________\n",
      "dense_2 (Dense)              (None, 256)               65792     \n",
      "_________________________________________________________________\n",
      "dropout_3 (Dropout)          (None, 256)               0         \n",
      "_________________________________________________________________\n",
      "dense_3 (Dense)              (None, 4)                 1028      \n",
      "=================================================================\n",
      "Total params: 1,569,860\n",
      "Trainable params: 1,569,860\n",
      "Non-trainable params: 0\n",
      "_________________________________________________________________\n"
     ]
    }
   ],
   "source": [
    "model = tf.keras.Sequential()\n",
    "\n",
    "model.add(tf.keras.layers.Conv2D(filters=32, kernel_size=(3, 3), padding = 'same', activation='relu', input_shape=(64, 64, 3)))\n",
    "model.add(tf.keras.layers.MaxPooling2D(pool_size=(2,2)))\n",
    "model.add(tf.keras.layers.Conv2D(64, (3, 3), padding = 'same', activation='relu'))        \n",
    "model.add(tf.keras.layers.MaxPooling2D(pool_size=(2,2)))\n",
    "model.add(tf.keras.layers.Conv2D(128, (3, 3), padding = 'same', activation='relu'))        \n",
    "model.add(tf.keras.layers.MaxPooling2D(pool_size=(2,2)))  \n",
    "model.add(tf.keras.layers.Conv2D(256, (3, 3), padding = 'same', activation='relu'))        \n",
    "model.add(tf.keras.layers.MaxPooling2D(pool_size=(2,2)))  \n",
    "model.add(tf.keras.layers.Dropout(0.5))\n",
    "model.add(tf.keras.layers.Flatten())    \n",
    "model.add(tf.keras.layers.Dense(256, activation='relu'))\n",
    "model.add(tf.keras.layers.Dropout(0.25))\n",
    "model.add(tf.keras.layers.Dense(256, activation='relu')) \n",
    "model.add(tf.keras.layers.Dropout(0.25))\n",
    "model.add(tf.keras.layers.Dense(256, activation='relu'))\n",
    "model.add(tf.keras.layers.Dropout(0.25))\n",
    "model.add(tf.keras.layers.Dense(4, activation='softmax'))\n",
    "model.compile(loss='categorical_crossentropy', optimizer='adam', metrics=['accuracy'])\n",
    "model.summary()"
   ]
  },
  {
   "cell_type": "markdown",
   "id": "062c9e72",
   "metadata": {},
   "source": [
    "# train the cnn model"
   ]
  },
  {
   "cell_type": "code",
   "execution_count": 13,
   "id": "f3fe5044",
   "metadata": {
    "scrolled": false
   },
   "outputs": [
    {
     "name": "stdout",
     "output_type": "stream",
     "text": [
      "Epoch 1/50\n",
      "5/5 [==============================] - 2s 244ms/step - loss: 1.4026 - accuracy: 0.2432 - val_loss: 1.3669 - val_accuracy: 0.3500\n",
      "Epoch 2/50\n",
      "5/5 [==============================] - 1s 190ms/step - loss: 1.3883 - accuracy: 0.2399 - val_loss: 1.3634 - val_accuracy: 0.4167\n",
      "Epoch 3/50\n",
      "5/5 [==============================] - 1s 220ms/step - loss: 1.3609 - accuracy: 0.3986 - val_loss: 1.3170 - val_accuracy: 0.3167\n",
      "Epoch 4/50\n",
      "5/5 [==============================] - 1s 193ms/step - loss: 1.1908 - accuracy: 0.5405 - val_loss: 0.8882 - val_accuracy: 0.6000\n",
      "Epoch 5/50\n",
      "5/5 [==============================] - 1s 213ms/step - loss: 1.1235 - accuracy: 0.5068 - val_loss: 0.8431 - val_accuracy: 0.6667\n",
      "Epoch 6/50\n",
      "5/5 [==============================] - 1s 209ms/step - loss: 0.9752 - accuracy: 0.5743 - val_loss: 0.8215 - val_accuracy: 0.7667\n",
      "Epoch 7/50\n",
      "5/5 [==============================] - 1s 207ms/step - loss: 0.8892 - accuracy: 0.6385 - val_loss: 0.7920 - val_accuracy: 0.6333\n",
      "Epoch 8/50\n",
      "5/5 [==============================] - 1s 189ms/step - loss: 0.8595 - accuracy: 0.6520 - val_loss: 0.7761 - val_accuracy: 0.7500\n",
      "Epoch 9/50\n",
      "5/5 [==============================] - 1s 219ms/step - loss: 0.7463 - accuracy: 0.6892 - val_loss: 0.7606 - val_accuracy: 0.7500\n",
      "Epoch 10/50\n",
      "5/5 [==============================] - 1s 259ms/step - loss: 0.6578 - accuracy: 0.7500 - val_loss: 0.6705 - val_accuracy: 0.8000\n",
      "Epoch 11/50\n",
      "5/5 [==============================] - 1s 255ms/step - loss: 0.5799 - accuracy: 0.7500 - val_loss: 0.5675 - val_accuracy: 0.8500\n",
      "Epoch 12/50\n",
      "5/5 [==============================] - 1s 251ms/step - loss: 0.4773 - accuracy: 0.8108 - val_loss: 0.4711 - val_accuracy: 0.8667\n",
      "Epoch 13/50\n",
      "5/5 [==============================] - 1s 245ms/step - loss: 0.4419 - accuracy: 0.8412 - val_loss: 0.4085 - val_accuracy: 0.9167\n",
      "Epoch 14/50\n",
      "5/5 [==============================] - 1s 255ms/step - loss: 0.3402 - accuracy: 0.8716 - val_loss: 0.4576 - val_accuracy: 0.9000\n",
      "Epoch 15/50\n",
      "5/5 [==============================] - 1s 248ms/step - loss: 0.2970 - accuracy: 0.8986 - val_loss: 0.4202 - val_accuracy: 0.9167\n",
      "Epoch 16/50\n",
      "5/5 [==============================] - 1s 259ms/step - loss: 0.2806 - accuracy: 0.8851 - val_loss: 0.3441 - val_accuracy: 0.9000\n",
      "Epoch 17/50\n",
      "5/5 [==============================] - 1s 249ms/step - loss: 0.2656 - accuracy: 0.9054 - val_loss: 0.5520 - val_accuracy: 0.8333\n",
      "Epoch 18/50\n",
      "5/5 [==============================] - 1s 258ms/step - loss: 0.2215 - accuracy: 0.9155 - val_loss: 0.4227 - val_accuracy: 0.9167\n",
      "Epoch 19/50\n",
      "5/5 [==============================] - 1s 250ms/step - loss: 0.2182 - accuracy: 0.9291 - val_loss: 0.4029 - val_accuracy: 0.8667\n",
      "Epoch 20/50\n",
      "5/5 [==============================] - 1s 246ms/step - loss: 0.1869 - accuracy: 0.9257 - val_loss: 0.4331 - val_accuracy: 0.9167\n",
      "Epoch 21/50\n",
      "5/5 [==============================] - 1s 240ms/step - loss: 0.2053 - accuracy: 0.9392 - val_loss: 0.5922 - val_accuracy: 0.8833\n",
      "Epoch 22/50\n",
      "5/5 [==============================] - 1s 255ms/step - loss: 0.2291 - accuracy: 0.9088 - val_loss: 0.5263 - val_accuracy: 0.7833\n",
      "Epoch 23/50\n",
      "5/5 [==============================] - 1s 243ms/step - loss: 0.2427 - accuracy: 0.9189 - val_loss: 0.5757 - val_accuracy: 0.8833\n",
      "Epoch 24/50\n",
      "5/5 [==============================] - 1s 243ms/step - loss: 0.2495 - accuracy: 0.9257 - val_loss: 0.3999 - val_accuracy: 0.9000\n",
      "Epoch 25/50\n",
      "5/5 [==============================] - 1s 242ms/step - loss: 0.1358 - accuracy: 0.9561 - val_loss: 0.4957 - val_accuracy: 0.9000\n",
      "Epoch 26/50\n",
      "5/5 [==============================] - 1s 253ms/step - loss: 0.1161 - accuracy: 0.9628 - val_loss: 0.3728 - val_accuracy: 0.8833\n",
      "Epoch 27/50\n",
      "5/5 [==============================] - 1s 243ms/step - loss: 0.0746 - accuracy: 0.9797 - val_loss: 0.4653 - val_accuracy: 0.9000\n",
      "Epoch 28/50\n",
      "5/5 [==============================] - 1s 251ms/step - loss: 0.0550 - accuracy: 0.9865 - val_loss: 0.5660 - val_accuracy: 0.9333\n",
      "Epoch 29/50\n",
      "5/5 [==============================] - 1s 253ms/step - loss: 0.0504 - accuracy: 0.9831 - val_loss: 0.5646 - val_accuracy: 0.9000\n",
      "Epoch 30/50\n",
      "5/5 [==============================] - 1s 257ms/step - loss: 0.0521 - accuracy: 0.9764 - val_loss: 0.6772 - val_accuracy: 0.9000\n",
      "Epoch 31/50\n",
      "5/5 [==============================] - 1s 254ms/step - loss: 0.0626 - accuracy: 0.9764 - val_loss: 0.7652 - val_accuracy: 0.8833\n",
      "Epoch 32/50\n",
      "5/5 [==============================] - 1s 254ms/step - loss: 0.0798 - accuracy: 0.9797 - val_loss: 1.0442 - val_accuracy: 0.8667\n",
      "Epoch 33/50\n",
      "5/5 [==============================] - 1s 242ms/step - loss: 0.1253 - accuracy: 0.9595 - val_loss: 0.5129 - val_accuracy: 0.8667\n",
      "Epoch 34/50\n",
      "5/5 [==============================] - 1s 250ms/step - loss: 0.0805 - accuracy: 0.9662 - val_loss: 1.0936 - val_accuracy: 0.8333\n",
      "Epoch 35/50\n",
      "5/5 [==============================] - 1s 243ms/step - loss: 0.1739 - accuracy: 0.9426 - val_loss: 0.7031 - val_accuracy: 0.8000\n",
      "Epoch 36/50\n",
      "5/5 [==============================] - 1s 254ms/step - loss: 0.1239 - accuracy: 0.9662 - val_loss: 0.6612 - val_accuracy: 0.9000\n",
      "Epoch 37/50\n",
      "5/5 [==============================] - 1s 251ms/step - loss: 0.1271 - accuracy: 0.9628 - val_loss: 0.5726 - val_accuracy: 0.9167\n",
      "Epoch 38/50\n",
      "5/5 [==============================] - 1s 246ms/step - loss: 0.0475 - accuracy: 0.9865 - val_loss: 0.6398 - val_accuracy: 0.8833\n",
      "Epoch 39/50\n",
      "5/5 [==============================] - 1s 241ms/step - loss: 0.0565 - accuracy: 0.9797 - val_loss: 0.7424 - val_accuracy: 0.9167\n",
      "Epoch 40/50\n",
      "5/5 [==============================] - 1s 258ms/step - loss: 0.0502 - accuracy: 0.9899 - val_loss: 0.9183 - val_accuracy: 0.9167\n",
      "Epoch 41/50\n",
      "5/5 [==============================] - 1s 248ms/step - loss: 0.0275 - accuracy: 0.9932 - val_loss: 0.7476 - val_accuracy: 0.9000\n",
      "Epoch 42/50\n",
      "5/5 [==============================] - 1s 240ms/step - loss: 0.0562 - accuracy: 0.9831 - val_loss: 0.7733 - val_accuracy: 0.8833\n",
      "Epoch 43/50\n",
      "5/5 [==============================] - 1s 246ms/step - loss: 0.0429 - accuracy: 0.9899 - val_loss: 0.7299 - val_accuracy: 0.9167\n",
      "Epoch 44/50\n",
      "5/5 [==============================] - 1s 257ms/step - loss: 0.0191 - accuracy: 0.9932 - val_loss: 0.6525 - val_accuracy: 0.9000\n",
      "Epoch 45/50\n",
      "5/5 [==============================] - 1s 253ms/step - loss: 0.0163 - accuracy: 0.9966 - val_loss: 0.6056 - val_accuracy: 0.8500\n",
      "Epoch 46/50\n",
      "5/5 [==============================] - 1s 251ms/step - loss: 0.0277 - accuracy: 0.9865 - val_loss: 1.1140 - val_accuracy: 0.8833\n",
      "Epoch 47/50\n",
      "5/5 [==============================] - 1s 254ms/step - loss: 0.0574 - accuracy: 0.9865 - val_loss: 0.9622 - val_accuracy: 0.8667\n",
      "Epoch 48/50\n",
      "5/5 [==============================] - 1s 243ms/step - loss: 0.0463 - accuracy: 0.9899 - val_loss: 0.9502 - val_accuracy: 0.9000\n",
      "Epoch 49/50\n",
      "5/5 [==============================] - 1s 250ms/step - loss: 0.0158 - accuracy: 0.9932 - val_loss: 0.9734 - val_accuracy: 0.9000\n",
      "Epoch 50/50\n",
      "5/5 [==============================] - 1s 253ms/step - loss: 0.0169 - accuracy: 0.9899 - val_loss: 0.8890 - val_accuracy: 0.9000\n",
      "2/2 [==============================] - 0s 34ms/step - loss: 0.8890 - accuracy: 0.9000\n",
      "score = [0.8890186548233032, 0.8999999761581421]\n"
     ]
    }
   ],
   "source": [
    "history=model.fit(X_train, y_train, batch_size=64, epochs=50, verbose=1,validation_data=(X_test, y_test),shuffle=True)\n",
    "score = model.evaluate(X_test, y_test)\n",
    "print(\"score =\", score)"
   ]
  },
  {
   "cell_type": "code",
   "execution_count": 14,
   "id": "9ceb1edf",
   "metadata": {},
   "outputs": [
    {
     "name": "stdout",
     "output_type": "stream",
     "text": [
      "Actual:  0 Predicted:  0\n",
      "Actual:  0 Predicted:  0\n",
      "Actual:  0 Predicted:  0\n",
      "Actual:  0 Predicted:  0\n",
      "Actual:  0 Predicted:  0\n",
      "Actual:  0 Predicted:  0\n",
      "Actual:  0 Predicted:  0\n",
      "Actual:  0 Predicted:  0\n",
      "Actual:  0 Predicted:  0\n",
      "Actual:  0 Predicted:  0\n",
      "Actual:  0 Predicted:  0\n",
      "Actual:  0 Predicted:  0\n",
      "Actual:  0 Predicted:  0\n",
      "Actual:  0 Predicted:  0\n",
      "Actual:  0 Predicted:  0\n",
      "Actual:  0 Predicted:  0\n",
      "Actual:  0 Predicted:  0\n",
      "Actual:  0 Predicted:  0\n",
      "Actual:  0 Predicted:  0\n",
      "Actual:  1 Predicted:  1\n",
      "Actual:  1 Predicted:  1\n",
      "Actual:  1 Predicted:  1\n",
      "Actual:  1 Predicted:  1\n",
      "Actual:  1 Predicted:  1\n",
      "Actual:  1 Predicted:  1\n",
      "Actual:  1 Predicted:  2\n",
      "Actual:  1 Predicted:  1\n",
      "Actual:  1 Predicted:  1\n",
      "Actual:  1 Predicted:  3\n",
      "Actual:  1 Predicted:  1\n",
      "Actual:  1 Predicted:  0\n",
      "Actual:  1 Predicted:  2\n",
      "Actual:  1 Predicted:  1\n",
      "Actual:  1 Predicted:  1\n",
      "Actual:  1 Predicted:  1\n",
      "Actual:  1 Predicted:  1\n",
      "Actual:  1 Predicted:  1\n",
      "Actual:  2 Predicted:  3\n",
      "Actual:  2 Predicted:  2\n",
      "Actual:  2 Predicted:  2\n",
      "Actual:  2 Predicted:  2\n",
      "Actual:  2 Predicted:  0\n",
      "Actual:  3 Predicted:  3\n",
      "Actual:  3 Predicted:  3\n",
      "Actual:  3 Predicted:  3\n",
      "Actual:  3 Predicted:  3\n",
      "Actual:  3 Predicted:  3\n",
      "Actual:  3 Predicted:  3\n",
      "Actual:  3 Predicted:  3\n",
      "Actual:  3 Predicted:  3\n",
      "Actual:  3 Predicted:  3\n",
      "Actual:  3 Predicted:  3\n",
      "Actual:  3 Predicted:  3\n",
      "Actual:  3 Predicted:  3\n",
      "Actual:  3 Predicted:  3\n",
      "Actual:  3 Predicted:  3\n",
      "Actual:  3 Predicted:  3\n",
      "Actual:  3 Predicted:  3\n",
      "Actual:  3 Predicted:  3\n",
      "Actual:  3 Predicted:  3\n"
     ]
    }
   ],
   "source": [
    "predict = model.predict(X_test)\n",
    "for i in np.arange(len(predict)):\n",
    "    print('Actual: ', np.argmax(y_test[i]), 'Predicted: ', np.argmax(predict[i]))"
   ]
  },
  {
   "cell_type": "code",
   "execution_count": 15,
   "id": "01c26db9",
   "metadata": {},
   "outputs": [],
   "source": [
    "from sklearn.metrics import confusion_matrix\n",
    "cm=confusion_matrix (np.argmax(y_test, axis=1), np.argmax(predict, axis=1))"
   ]
  },
  {
   "cell_type": "code",
   "execution_count": 16,
   "id": "759ed375",
   "metadata": {},
   "outputs": [
    {
     "name": "stderr",
     "output_type": "stream",
     "text": [
      "D:\\ProgramData\\Anaconda3\\envs\\pythonEx\\lib\\site-packages\\sklearn\\utils\\validation.py:70: FutureWarning: Pass display_labels=['apple', 'banana', 'mixed', 'orange'] as keyword args. From version 1.0 (renaming of 0.25) passing these as positional arguments will result in an error\n",
      "  warnings.warn(f\"Pass {args_msg} as keyword args. From version \"\n"
     ]
    },
    {
     "data": {
      "text/plain": [
       "<sklearn.metrics._plot.confusion_matrix.ConfusionMatrixDisplay at 0x1e02e23f2b0>"
      ]
     },
     "execution_count": 16,
     "metadata": {},
     "output_type": "execute_result"
    },
    {
     "data": {
      "image/png": "[encoded data removed]",
      "text/plain": [
       "<Figure size 432x288 with 2 Axes>"
      ]
     },
     "metadata": {
      "needs_background": "light"
     },
     "output_type": "display_data"
    }
   ],
   "source": [
    "metrics.ConfusionMatrixDisplay(cm, ['apple','banana','mixed','orange']).plot()"
   ]
  },
  {
   "cell_type": "code",
   "execution_count": 17,
   "id": "376803a9",
   "metadata": {},
   "outputs": [
    {
     "data": {
      "image/png": "[encoded data removed]",
      "text/plain": [
       "<Figure size 432x288 with 1 Axes>"
      ]
     },
     "metadata": {
      "needs_background": "light"
     },
     "output_type": "display_data"
    },
    {
     "data": {
      "image/png": "[encoded data removed]",
      "text/plain": [
       "<Figure size 432x288 with 1 Axes>"
      ]
     },
     "metadata": {
      "needs_background": "light"
     },
     "output_type": "display_data"
    }
   ],
   "source": [
    "epochs = range(1, len(history.history['accuracy']) + 1)\n",
    "\n",
    "plt.plot(epochs, history.history['accuracy'], 'r', label='Training acc')\n",
    "plt.plot(epochs, history.history['val_accuracy'], 'b', label='Validation acc')\n",
    "plt.title('Training and Validation Accuracy')\n",
    "plt.xlabel(\"Epochs\")\n",
    "plt.ylabel(\"Accuracy\")\n",
    "plt.legend()\n",
    "\n",
    "plt.figure()\n",
    "plt.plot(epochs, history.history['loss'], label='Training loss')\n",
    "plt.plot(epochs, history.history['val_loss'], label='Validation loss')\n",
    "plt.title('Training and Validation Loss')\n",
    "plt.xlabel(\"Epochs\")\n",
    "plt.ylabel(\"Loss\")\n",
    "plt.legend()\n",
    "\n",
    "plt.show()"
   ]
  },
  {
   "cell_type": "code",
   "execution_count": null,
   "id": "f1bdb085",
   "metadata": {},
   "outputs": [],
   "source": []
  },
  {
   "cell_type": "code",
   "execution_count": null,
   "id": "2bc1c2de",
   "metadata": {},
   "outputs": [],
   "source": []
  }
 ],
 "metadata": {
  "kernelspec": {
   "display_name": "Python 3",
   "language": "python",
   "name": "python3"
  },
  "language_info": {
   "codemirror_mode": {
    "name": "ipython",
    "version": 3
   },
   "file_extension": ".py",
   "mimetype": "text/x-python",
   "name": "python",
   "nbconvert_exporter": "python",
   "pygments_lexer": "ipython3",
   "version": "3.9.4"
  }
 },
 "nbformat": 4,
 "nbformat_minor": 5
}
